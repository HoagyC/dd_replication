{
 "cells": [
  {
   "cell_type": "code",
   "execution_count": 7,
   "metadata": {},
   "outputs": [],
   "source": [
    "from main import train_model\n",
    "import seaborn as sns\n",
    "import torch\n",
    "import matplotlib.pyplot as plt\n",
    "from multiprocessing import Pool\n",
    "import functools\n",
    "\n",
    "hidden_dim = 2"
   ]
  },
  {
   "cell_type": "code",
   "execution_count": null,
   "metadata": {},
   "outputs": [],
   "source": []
  },
  {
   "cell_type": "code",
   "execution_count": null,
   "metadata": {},
   "outputs": [],
   "source": [
    "with torch.no_grad():\n",
    "    hidden, _ = train_results.model(train_results.inputs)\n",
    "\n",
    "def plot_scatter_from_center(data: torch.Tensor, colour: str):\n",
    "    plt.figure(figsize=(6, 6))\n",
    "    for point in data:\n",
    "        plt.plot([0, point[0]], [0, point[1]], colour + \"-\", alpha=0.5)\n",
    "    plt.scatter(data[:, 0], data[:, 1], color=colour)\n",
    "    plt.title(\"Lines from Origin to Points\")\n",
    "    plt.xlabel(\"X\")\n",
    "    plt.ylabel(\"Y\")\n",
    "    plt.axhline(0, color='black',linewidth=0.5)\n",
    "    plt.axvline(0, color='black',linewidth=0.5)\n",
    "    plt.xlim(-1.5, 1.5)\n",
    "    plt.ylim(-1.5, 1.5)\n",
    "    plt.grid(True)\n",
    "    plt.show()\n",
    "    \n",
    "plot_scatter_from_center(hidden, \"r\")\n",
    "plot_scatter_from_center(train_results.model.weights.data, \"b\")\n"
   ]
  },
  {
   "cell_type": "code",
   "execution_count": 13,
   "metadata": {},
   "outputs": [
    {
     "name": "stderr",
     "output_type": "stream",
     "text": [
      "Python(96410) MallocStackLogging: can't turn off malloc stack logging because it was not enabled.\n",
      "Python(96411) MallocStackLogging: can't turn off malloc stack logging because it was not enabled.\n",
      "Python(96412) MallocStackLogging: can't turn off malloc stack logging because it was not enabled.\n",
      "Python(96413) MallocStackLogging: can't turn off malloc stack logging because it was not enabled.\n",
      "100%|██████████| 50000/50000 [00:52<00:00, 951.48it/s] \n",
      "100%|██████████| 50000/50000 [01:13<00:00, 675.93it/s]\n",
      "100%|██████████| 50000/50000 [01:16<00:00, 656.32it/s]\n",
      "100%|██████████| 50000/50000 [01:20<00:00, 617.35it/s]\n",
      "100%|██████████| 50000/50000 [01:37<00:00, 514.55it/s]\n",
      "100%|██████████| 50000/50000 [01:55<00:00, 431.68it/s]\n",
      "100%|██████████| 50000/50000 [02:31<00:00, 329.86it/s]\n",
      "100%|██████████| 50000/50000 [04:06<00:00, 202.50it/s]\n",
      "100%|██████████| 50000/50000 [07:09<00:00, 116.29it/s]\n",
      "100%|██████████| 50000/50000 [12:45<00:00, 65.29it/s]\n",
      "100%|██████████| 50000/50000 [24:49<00:00, 33.57it/s]\n",
      " 78%|███████▊  | 38942/50000 [33:02<07:33, 24.38it/s]"
     ]
    }
   ],
   "source": [
    "from tqdm import tqdm\n",
    "from main import train_model\n",
    "\n",
    "# datapoint_sizes = [3,5,6,8,10,15,30,50,100,200,500,1000,2000,5000,10000,20000,50000,100000]\n",
    "datapoint_sizes = [3,5,6,8,10,15,30,50,100,200,500,1000]\n",
    "\n",
    "results_list = []\n",
    "with Pool(4) as pool:\n",
    "    l = pool.imap_unordered(\n",
    "        functools.partial(train_model, hidden_dim=hidden_dim),\n",
    "        datapoint_sizes,\n",
    "    )\n",
    "    l = tqdm(l, total=len(datapoint_sizes))\n",
    "    for train_results in l:\n",
    "        results_list.append(train_results)\n"
   ]
  },
  {
   "cell_type": "code",
   "execution_count": null,
   "metadata": {},
   "outputs": [],
   "source": []
  },
  {
   "cell_type": "code",
   "execution_count": null,
   "metadata": {},
   "outputs": [],
   "source": []
  },
  {
   "cell_type": "code",
   "execution_count": null,
   "metadata": {},
   "outputs": [],
   "source": [
    " "
   ]
  }
 ],
 "metadata": {
  "kernelspec": {
   "display_name": ".env",
   "language": "python",
   "name": "python3"
  },
  "language_info": {
   "codemirror_mode": {
    "name": "ipython",
    "version": 3
   },
   "file_extension": ".py",
   "mimetype": "text/x-python",
   "name": "python",
   "nbconvert_exporter": "python",
   "pygments_lexer": "ipython3",
   "version": "3.10.11"
  },
  "orig_nbformat": 4,
  "vscode": {
   "interpreter": {
    "hash": "89ea9bf6fff21d97cc1577e191bb2377f1a14edcf1c2b19549acd6abfadcb053"
   }
  }
 },
 "nbformat": 4,
 "nbformat_minor": 2
}
