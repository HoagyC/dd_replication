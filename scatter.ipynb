{
 "cells": [
  {
   "cell_type": "code",
   "execution_count": null,
   "metadata": {},
   "outputs": [],
   "source": []
  },
  {
   "cell_type": "code",
   "execution_count": 1,
   "metadata": {},
   "outputs": [
    {
     "name": "stderr",
     "output_type": "stream",
     "text": [
      "/Users/hoagycunningham/dd_replication/.env/lib/python3.9/site-packages/urllib3/__init__.py:34: NotOpenSSLWarning: urllib3 v2 only supports OpenSSL 1.1.1+, currently the 'ssl' module is compiled with 'LibreSSL 2.8.3'. See: https://github.com/urllib3/urllib3/issues/3020\n",
      "  warnings.warn(\n"
     ]
    }
   ],
   "source": [
    "from main import train_model, create_inputs\n",
    "import seaborn as sns\n",
    "import torch\n",
    "import matplotlib.pyplot as plt"
   ]
  },
  {
   "cell_type": "code",
   "execution_count": 3,
   "metadata": {},
   "outputs": [],
   "source": [
    "# Define the hyperparameters\n",
    "hidden_dim = 2\n",
    "n_datapoints = 5\n"
   ]
  },
  {
   "cell_type": "code",
   "execution_count": null,
   "metadata": {},
   "outputs": [],
   "source": [
    "train_results = train_model(hidden_dim=hidden_dim, n_datapoints=n_datapoints)"
   ]
  },
  {
   "cell_type": "code",
   "execution_count": null,
   "metadata": {},
   "outputs": [],
   "source": [
    "with torch.no_grad():\n",
    "    hidden, _ = train_results.model(train_results.inputs)\n",
    "\n",
    "def plot_scatter_from_center(data: torch.Tensor, colour: str):\n",
    "    plt.figure(figsize=(6, 6))\n",
    "    for point in data:\n",
    "        plt.plot([0, point[0]], [0, point[1]], colour + \"-\", alpha=0.5)\n",
    "    plt.scatter(data[:, 0], data[:, 1], color=colour)\n",
    "    plt.title(\"Lines from Origin to Points\")\n",
    "    plt.xlabel(\"X\")\n",
    "    plt.ylabel(\"Y\")\n",
    "    plt.axhline(0, color='black',linewidth=0.5)\n",
    "    plt.axvline(0, color='black',linewidth=0.5)\n",
    "    plt.xlim(-1.5, 1.5)\n",
    "    plt.ylim(-1.5, 1.5)\n",
    "    plt.grid(True)\n",
    "    plt.show()\n",
    "    \n",
    "plot_scatter_from_center(hidden, \"r\")\n",
    "plot_scatter_from_center(train_results.model.weights.data, \"b\")\n"
   ]
  },
  {
   "cell_type": "code",
   "execution_count": 2,
   "metadata": {},
   "outputs": [
    {
     "ename": "NameError",
     "evalue": "name 'n_datapoints' is not defined",
     "output_type": "error",
     "traceback": [
      "\u001b[0;31m---------------------------------------------------------------------------\u001b[0m",
      "\u001b[0;31mNameError\u001b[0m                                 Traceback (most recent call last)",
      "Cell \u001b[0;32mIn[2], line 9\u001b[0m\n\u001b[1;32m      6\u001b[0m results_list \u001b[39m=\u001b[39m []\n\u001b[1;32m      7\u001b[0m \u001b[39mwith\u001b[39;00m Pool(\u001b[39m2\u001b[39m) \u001b[39mas\u001b[39;00m pool:\n\u001b[1;32m      8\u001b[0m     \u001b[39mfor\u001b[39;00m train_results \u001b[39min\u001b[39;00m pool\u001b[39m.\u001b[39mimap_unordered(\n\u001b[0;32m----> 9\u001b[0m         functools\u001b[39m.\u001b[39mpartial(train_model, n_datapoints\u001b[39m=\u001b[39mn_datapoints),\n\u001b[1;32m     10\u001b[0m         datapoint_sizes,\n\u001b[1;32m     11\u001b[0m     ):\n\u001b[1;32m     12\u001b[0m         results_list\u001b[39m.\u001b[39mappend(train_results)\n\u001b[1;32m     15\u001b[0m \u001b[39m# for n_datapoints in datapoint_sizes:\u001b[39;00m\n\u001b[1;32m     16\u001b[0m \u001b[39m#     train_results = train_model(hidden_dim=hidden_dim, n_datapoints=n_datapoints)\u001b[39;00m\n\u001b[1;32m     17\u001b[0m \u001b[39m#     results_dict[(hidden_dim, n_datapoints)] = train_results\u001b[39;00m\n",
      "\u001b[0;31mNameError\u001b[0m: name 'n_datapoints' is not defined"
     ]
    }
   ],
   "source": [
    "from multiprocessing import Pool\n",
    "import functools\n",
    "\n",
    "datapoint_sizes = [3,5,6,8,10,15,30,50,100,200,500,1000,2000,5000,10000,20000,50000,100000]\n",
    "\n",
    "results_list = []\n",
    "with Pool(2) as pool:\n",
    "    for train_results in pool.imap_unordered(\n",
    "        functools.partial(train_model, hidden_dim=hidden_dim),\n",
    "        datapoint_sizes,\n",
    "    ):\n",
    "        results_list.append(train_results)\n",
    "\n",
    "\n",
    "# for n_datapoints in datapoint_sizes:\n",
    "#     train_results = train_model(hidden_dim=hidden_dim, n_datapoints=n_datapoints)\n",
    "#     results_dict[(hidden_dim, n_datapoints)] = train_results"
   ]
  },
  {
   "cell_type": "code",
   "execution_count": null,
   "metadata": {},
   "outputs": [],
   "source": [
    " "
   ]
  }
 ],
 "metadata": {
  "kernelspec": {
   "display_name": ".env",
   "language": "python",
   "name": "python3"
  },
  "language_info": {
   "codemirror_mode": {
    "name": "ipython",
    "version": 3
   },
   "file_extension": ".py",
   "mimetype": "text/x-python",
   "name": "python",
   "nbconvert_exporter": "python",
   "pygments_lexer": "ipython3",
   "version": "3.9.6"
  },
  "orig_nbformat": 4,
  "vscode": {
   "interpreter": {
    "hash": "89ea9bf6fff21d97cc1577e191bb2377f1a14edcf1c2b19549acd6abfadcb053"
   }
  }
 },
 "nbformat": 4,
 "nbformat_minor": 2
}
